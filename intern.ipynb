{
  "nbformat": 4,
  "nbformat_minor": 0,
  "metadata": {
    "colab": {
      "provenance": []
    },
    "kernelspec": {
      "name": "python3",
      "display_name": "Python 3"
    },
    "language_info": {
      "name": "python"
    }
  },
  "cells": [
    {
      "cell_type": "markdown",
      "source": [
        "cell 1"
      ],
      "metadata": {
        "id": "CrvfWECfyXXo"
      }
    },
    {
      "cell_type": "code",
      "execution_count": 1,
      "metadata": {
        "colab": {
          "base_uri": "https://localhost:8080/"
        },
        "id": "Y85pr-gZkHMD",
        "outputId": "1ef84ad0-6c47-4b86-8f60-d90b70337769"
      },
      "outputs": [
        {
          "output_type": "stream",
          "name": "stdout",
          "text": [
            "Reading package lists... Done\n",
            "Building dependency tree... Done\n",
            "Reading state information... Done\n",
            "tesseract-ocr is already the newest version (4.1.1-2.1build1).\n",
            "0 upgraded, 0 newly installed, 0 to remove and 35 not upgraded.\n",
            "Requirement already satisfied: pip==23.3.1 in /usr/local/lib/python3.11/dist-packages (23.3.1)\n",
            "\u001b[33mDEPRECATION: textract 1.6.5 has a non-standard dependency specifier extract-msg<=0.29.*. pip 24.0 will enforce this behaviour change. A possible replacement is to upgrade to a newer version of textract or contact the author to suggest that they release a version with a conforming dependency specifiers. Discussion can be found at https://github.com/pypa/pip/issues/12063\u001b[0m\u001b[33m\n",
            "\u001b[0mRequirement already satisfied: textract in /usr/local/lib/python3.11/dist-packages (1.6.5)\n",
            "Requirement already satisfied: pytesseract in /usr/local/lib/python3.11/dist-packages (0.3.13)\n",
            "Requirement already satisfied: pillow in /usr/local/lib/python3.11/dist-packages (11.2.1)\n",
            "Requirement already satisfied: pandas in /usr/local/lib/python3.11/dist-packages (2.2.2)\n",
            "Requirement already satisfied: matplotlib in /usr/local/lib/python3.11/dist-packages (3.10.0)\n",
            "Requirement already satisfied: together in /usr/local/lib/python3.11/dist-packages (1.5.13)\n",
            "Requirement already satisfied: openpyxl in /usr/local/lib/python3.11/dist-packages (3.1.5)\n",
            "Requirement already satisfied: python-docx in /usr/local/lib/python3.11/dist-packages (1.1.2)\n",
            "Requirement already satisfied: argcomplete~=1.10.0 in /usr/local/lib/python3.11/dist-packages (from textract) (1.10.3)\n",
            "Requirement already satisfied: beautifulsoup4~=4.8.0 in /usr/local/lib/python3.11/dist-packages (from textract) (4.8.2)\n",
            "Requirement already satisfied: chardet==3.* in /usr/local/lib/python3.11/dist-packages (from textract) (3.0.4)\n",
            "Requirement already satisfied: docx2txt~=0.8 in /usr/local/lib/python3.11/dist-packages (from textract) (0.9)\n",
            "Requirement already satisfied: extract-msg<=0.29.* in /usr/local/lib/python3.11/dist-packages (from textract) (0.28.7)\n",
            "Requirement already satisfied: pdfminer.six==20191110 in /usr/local/lib/python3.11/dist-packages (from textract) (20191110)\n",
            "Requirement already satisfied: python-pptx~=0.6.18 in /usr/local/lib/python3.11/dist-packages (from textract) (0.6.23)\n",
            "Requirement already satisfied: six~=1.12.0 in /usr/local/lib/python3.11/dist-packages (from textract) (1.12.0)\n",
            "Requirement already satisfied: SpeechRecognition~=3.8.1 in /usr/local/lib/python3.11/dist-packages (from textract) (3.8.1)\n",
            "Requirement already satisfied: xlrd~=1.2.0 in /usr/local/lib/python3.11/dist-packages (from textract) (1.2.0)\n",
            "Requirement already satisfied: pycryptodome in /usr/local/lib/python3.11/dist-packages (from pdfminer.six==20191110->textract) (3.23.0)\n",
            "Requirement already satisfied: sortedcontainers in /usr/local/lib/python3.11/dist-packages (from pdfminer.six==20191110->textract) (2.4.0)\n",
            "Requirement already satisfied: packaging>=21.3 in /usr/local/lib/python3.11/dist-packages (from pytesseract) (24.2)\n",
            "Requirement already satisfied: numpy>=1.23.2 in /usr/local/lib/python3.11/dist-packages (from pandas) (2.0.2)\n",
            "Requirement already satisfied: python-dateutil>=2.8.2 in /usr/local/lib/python3.11/dist-packages (from pandas) (2.9.0.post0)\n",
            "Requirement already satisfied: pytz>=2020.1 in /usr/local/lib/python3.11/dist-packages (from pandas) (2025.2)\n",
            "Requirement already satisfied: tzdata>=2022.7 in /usr/local/lib/python3.11/dist-packages (from pandas) (2025.2)\n",
            "Requirement already satisfied: contourpy>=1.0.1 in /usr/local/lib/python3.11/dist-packages (from matplotlib) (1.3.2)\n",
            "Requirement already satisfied: cycler>=0.10 in /usr/local/lib/python3.11/dist-packages (from matplotlib) (0.12.1)\n",
            "Requirement already satisfied: fonttools>=4.22.0 in /usr/local/lib/python3.11/dist-packages (from matplotlib) (4.58.1)\n",
            "Requirement already satisfied: kiwisolver>=1.3.1 in /usr/local/lib/python3.11/dist-packages (from matplotlib) (1.4.8)\n",
            "Requirement already satisfied: pyparsing>=2.3.1 in /usr/local/lib/python3.11/dist-packages (from matplotlib) (3.2.3)\n",
            "Requirement already satisfied: aiohttp<4.0.0,>=3.9.3 in /usr/local/lib/python3.11/dist-packages (from together) (3.11.15)\n",
            "Requirement already satisfied: click<9.0.0,>=8.1.7 in /usr/local/lib/python3.11/dist-packages (from together) (8.1.8)\n",
            "Requirement already satisfied: eval-type-backport<0.3.0,>=0.1.3 in /usr/local/lib/python3.11/dist-packages (from together) (0.2.2)\n",
            "Requirement already satisfied: filelock<4.0.0,>=3.13.1 in /usr/local/lib/python3.11/dist-packages (from together) (3.18.0)\n",
            "Requirement already satisfied: pydantic<3.0.0,>=2.6.3 in /usr/local/lib/python3.11/dist-packages (from together) (2.11.5)\n",
            "Requirement already satisfied: requests<3.0.0,>=2.31.0 in /usr/local/lib/python3.11/dist-packages (from together) (2.32.3)\n",
            "Requirement already satisfied: rich<15.0.0,>=13.8.1 in /usr/local/lib/python3.11/dist-packages (from together) (13.9.4)\n",
            "Requirement already satisfied: tabulate<0.10.0,>=0.9.0 in /usr/local/lib/python3.11/dist-packages (from together) (0.9.0)\n",
            "Requirement already satisfied: tqdm<5.0.0,>=4.66.2 in /usr/local/lib/python3.11/dist-packages (from together) (4.67.1)\n",
            "Requirement already satisfied: typer<0.16,>=0.9 in /usr/local/lib/python3.11/dist-packages (from together) (0.15.4)\n",
            "Requirement already satisfied: et-xmlfile in /usr/local/lib/python3.11/dist-packages (from openpyxl) (2.0.0)\n",
            "Requirement already satisfied: lxml>=3.1.0 in /usr/local/lib/python3.11/dist-packages (from python-docx) (5.4.0)\n",
            "Requirement already satisfied: typing-extensions>=4.9.0 in /usr/local/lib/python3.11/dist-packages (from python-docx) (4.14.0)\n",
            "Requirement already satisfied: aiohappyeyeballs>=2.3.0 in /usr/local/lib/python3.11/dist-packages (from aiohttp<4.0.0,>=3.9.3->together) (2.6.1)\n",
            "Requirement already satisfied: aiosignal>=1.1.2 in /usr/local/lib/python3.11/dist-packages (from aiohttp<4.0.0,>=3.9.3->together) (1.3.2)\n",
            "Requirement already satisfied: attrs>=17.3.0 in /usr/local/lib/python3.11/dist-packages (from aiohttp<4.0.0,>=3.9.3->together) (25.3.0)\n",
            "Requirement already satisfied: frozenlist>=1.1.1 in /usr/local/lib/python3.11/dist-packages (from aiohttp<4.0.0,>=3.9.3->together) (1.6.0)\n",
            "Requirement already satisfied: multidict<7.0,>=4.5 in /usr/local/lib/python3.11/dist-packages (from aiohttp<4.0.0,>=3.9.3->together) (6.4.4)\n",
            "Requirement already satisfied: propcache>=0.2.0 in /usr/local/lib/python3.11/dist-packages (from aiohttp<4.0.0,>=3.9.3->together) (0.3.1)\n",
            "Requirement already satisfied: yarl<2.0,>=1.17.0 in /usr/local/lib/python3.11/dist-packages (from aiohttp<4.0.0,>=3.9.3->together) (1.20.0)\n",
            "Requirement already satisfied: soupsieve>=1.2 in /usr/local/lib/python3.11/dist-packages (from beautifulsoup4~=4.8.0->textract) (2.7)\n",
            "Requirement already satisfied: imapclient==2.1.0 in /usr/local/lib/python3.11/dist-packages (from extract-msg<=0.29.*->textract) (2.1.0)\n",
            "Requirement already satisfied: olefile>=0.46 in /usr/local/lib/python3.11/dist-packages (from extract-msg<=0.29.*->textract) (0.47)\n",
            "Requirement already satisfied: tzlocal>=2.1 in /usr/local/lib/python3.11/dist-packages (from extract-msg<=0.29.*->textract) (5.3.1)\n",
            "Requirement already satisfied: compressed-rtf>=1.0.6 in /usr/local/lib/python3.11/dist-packages (from extract-msg<=0.29.*->textract) (1.0.7)\n",
            "Requirement already satisfied: ebcdic>=1.1.1 in /usr/local/lib/python3.11/dist-packages (from extract-msg<=0.29.*->textract) (1.1.1)\n",
            "Requirement already satisfied: annotated-types>=0.6.0 in /usr/local/lib/python3.11/dist-packages (from pydantic<3.0.0,>=2.6.3->together) (0.7.0)\n",
            "Requirement already satisfied: pydantic-core==2.33.2 in /usr/local/lib/python3.11/dist-packages (from pydantic<3.0.0,>=2.6.3->together) (2.33.2)\n",
            "Requirement already satisfied: typing-inspection>=0.4.0 in /usr/local/lib/python3.11/dist-packages (from pydantic<3.0.0,>=2.6.3->together) (0.4.1)\n",
            "Requirement already satisfied: XlsxWriter>=0.5.7 in /usr/local/lib/python3.11/dist-packages (from python-pptx~=0.6.18->textract) (3.2.3)\n",
            "Requirement already satisfied: charset-normalizer<4,>=2 in /usr/local/lib/python3.11/dist-packages (from requests<3.0.0,>=2.31.0->together) (3.4.2)\n",
            "Requirement already satisfied: idna<4,>=2.5 in /usr/local/lib/python3.11/dist-packages (from requests<3.0.0,>=2.31.0->together) (3.10)\n",
            "Requirement already satisfied: urllib3<3,>=1.21.1 in /usr/local/lib/python3.11/dist-packages (from requests<3.0.0,>=2.31.0->together) (2.4.0)\n",
            "Requirement already satisfied: certifi>=2017.4.17 in /usr/local/lib/python3.11/dist-packages (from requests<3.0.0,>=2.31.0->together) (2025.4.26)\n",
            "Requirement already satisfied: markdown-it-py>=2.2.0 in /usr/local/lib/python3.11/dist-packages (from rich<15.0.0,>=13.8.1->together) (3.0.0)\n",
            "Requirement already satisfied: pygments<3.0.0,>=2.13.0 in /usr/local/lib/python3.11/dist-packages (from rich<15.0.0,>=13.8.1->together) (2.19.1)\n",
            "Requirement already satisfied: shellingham>=1.3.0 in /usr/local/lib/python3.11/dist-packages (from typer<0.16,>=0.9->together) (1.5.4)\n",
            "Requirement already satisfied: mdurl~=0.1 in /usr/local/lib/python3.11/dist-packages (from markdown-it-py>=2.2.0->rich<15.0.0,>=13.8.1->together) (0.1.2)\n",
            "\u001b[33mDEPRECATION: textract 1.6.5 has a non-standard dependency specifier extract-msg<=0.29.*. pip 24.0 will enforce this behaviour change. A possible replacement is to upgrade to a newer version of textract or contact the author to suggest that they release a version with a conforming dependency specifiers. Discussion can be found at https://github.com/pypa/pip/issues/12063\u001b[0m\u001b[33m\n",
            "\u001b[0m"
          ]
        }
      ],
      "source": [
        "!pip install --quiet --no-deps together==1.5.13\n",
        "!sudo apt install tesseract-ocr\n",
        "!pip install pip==23.3.1\n",
        "!pip install textract pytesseract pillow pandas matplotlib together openpyxl python-docx"
      ]
    },
    {
      "cell_type": "markdown",
      "source": [
        "cell 2"
      ],
      "metadata": {
        "id": "N8hL8-tzya7y"
      }
    },
    {
      "cell_type": "code",
      "source": [
        "import os\n",
        "import pandas as pd\n",
        "import numpy as np\n",
        "import base64\n",
        "import textract\n",
        "import matplotlib.pyplot as plt\n",
        "from IPython.display import display, Image\n",
        "import together\n",
        "import re\n",
        "from io import BytesIO\n",
        "from PIL import Image as PILImage\n",
        "import pytesseract"
      ],
      "metadata": {
        "id": "ZSIEZ35voieB"
      },
      "execution_count": 2,
      "outputs": []
    },
    {
      "cell_type": "markdown",
      "source": [
        "cell 3"
      ],
      "metadata": {
        "id": "RNOBUBYk-0Tv"
      }
    },
    {
      "cell_type": "code",
      "source": [
        "os.environ[\"TOGETHER_API_KEY\"] = \"tgp_v1_6K5twiAUdIv6ULMjEZOlw_zlabob2DsUBYKgb5Kaz_I\" #Hi this is prakarsh and its a API key\n",
        "together.api_key = os.environ[\"TOGETHER_API_KEY\"]\n"
      ],
      "metadata": {
        "id": "Ecm4ybI6m28A"
      },
      "execution_count": 3,
      "outputs": []
    },
    {
      "cell_type": "markdown",
      "source": [
        "cell 4"
      ],
      "metadata": {
        "id": "Jxa2kfrczZsO"
      }
    },
    {
      "cell_type": "code",
      "source": [
        "def read_file(file_path):\n",
        "    ext = os.path.splitext(file_path)[-1].lower()\n",
        "\n",
        "    if ext in [\".csv\", \".xls\", \".xlsx\"]:\n",
        "        return pd.read_csv(file_path) if ext == \".csv\" else pd.read_excel(file_path)\n",
        "    elif ext in [\".txt\", \".pdf\", \".docx\"]:\n",
        "        return textract.process(file_path).decode(\"utf-8\")\n",
        "    elif ext in [\".png\", \".jpg\", \".jpeg\"]:\n",
        "        return pytesseract.image_to_string(PILImage.open(file_path))\n",
        "    else:\n",
        "        raise ValueError(f\"Unsupported file format: {ext}\")\n"
      ],
      "metadata": {
        "id": "tzi1t03FvnbL"
      },
      "execution_count": 4,
      "outputs": []
    },
    {
      "cell_type": "markdown",
      "source": [
        "cell 5"
      ],
      "metadata": {
        "id": "H7-VHg0rzoss"
      }
    },
    {
      "cell_type": "code",
      "source": [
        "def optimize_context(data, max_chars=3000):\n",
        "    if isinstance(data, pd.DataFrame):\n",
        "        summary = f\"DataFrame: {len(data)} rows × {len(data.columns)} columns\\n\"\n",
        "        summary += f\"Columns: {', '.join(data.columns)}\\n\"\n",
        "        sample_size = min(3, len(data))\n",
        "        summary += f\"\\nSample data (first {sample_size} rows):\\n\"\n",
        "        summary += data.head(sample_size).to_string(index=False)\n",
        "        num_cols = data.select_dtypes(include=np.number).columns\n",
        "        if not num_cols.empty:\n",
        "            summary += \"\\n\\nNumerical columns statistics:\\n\"\n",
        "            stats = data[num_cols].describe().loc[['mean', 'min', 'max']]\n",
        "            summary += stats.to_string()\n",
        "        return summary[:max_chars]\n",
        "\n",
        "    elif isinstance(data, str):\n",
        "        return data[:max_chars//2] + \"\\n\\n...TRUNCATED...\\n\\n\" + data[-max_chars//2:] if len(data) > max_chars else data\n",
        "    return str(data)[:max_chars]"
      ],
      "metadata": {
        "id": "tm917_qkvof1"
      },
      "execution_count": 5,
      "outputs": []
    },
    {
      "cell_type": "markdown",
      "source": [
        "cell 6"
      ],
      "metadata": {
        "id": "5AbqmiFtz3DS"
      }
    },
    {
      "cell_type": "code",
      "source": [
        "def generate_response(question, context):\n",
        "    \"\"\"Generate response with context\"\"\"\n",
        "    prompt = f\"\"\"\n",
        "[CONTEXT]\n",
        "{context}\n",
        "\n",
        "[QUESTION]\n",
        "{question}\n",
        "\n",
        "[RESPONSE]\n",
        "\"\"\"\n",
        "    try:\n",
        "        response = together.Complete.create(\n",
        "            model=\"meta-llama/Llama-4-Maverick-17B-128E-Instruct-FP8\",\n",
        "            prompt=prompt,\n",
        "            max_tokens=1024,\n",
        "            temperature=0.7,\n",
        "            stop=[\"</s>\", \"[QUESTION]\"]\n",
        "        )\n",
        "        # FIX: Handle new response format\n",
        "        if 'output' in response and 'choices' in response['output']:\n",
        "            return response['output']['choices'][0]['text'].strip()\n",
        "        elif 'choices' in response:\n",
        "            return response['choices'][0]['text'].strip()\n",
        "        else:\n",
        "            return \"Error: Unexpected API response format\"\n",
        "    except Exception as e:\n",
        "        return f\"API Error: {str(e)}\"\n",
        "def extract_code(response_text):\n",
        "    \"\"\"Extract Python code from model response\"\"\"\n",
        "    code_blocks = re.findall(r\"```python(.*?)```\", response_text, re.DOTALL)\n",
        "    return code_blocks[0].strip() if code_blocks else \"\"\n",
        "\n",
        "def execute_plot_code(code, df):\n",
        "    \"\"\"Execute code and return base64 image\"\"\"\n",
        "    local_vars = {\"df\": df, \"plt\": plt}\n",
        "    plt.figure()  # Create new figure\n",
        "\n",
        "    try:\n",
        "        exec(code, {}, local_vars)\n",
        "        buf = BytesIO()\n",
        "        plt.savefig(buf, format=\"png\", bbox_inches=\"tight\")\n",
        "        plt.close()\n",
        "        return base64.b64encode(buf.getvalue()).decode(\"utf-8\")\n",
        "    except Exception as e:\n",
        "        return f\"Error: {str(e)}\""
      ],
      "metadata": {
        "id": "OYNEaQ8gvqaC"
      },
      "execution_count": 6,
      "outputs": []
    },
    {
      "cell_type": "markdown",
      "source": [
        "cell 7"
      ],
      "metadata": {
        "id": "buo0cDV40Ko9"
      }
    },
    {
      "cell_type": "code",
      "source": [
        "class DataAnalystAgent:\n",
        "    def __init__(self):\n",
        "        self.data = None\n",
        "        self.data_type = None\n",
        "        self.context_summary = \"\"\n",
        "\n",
        "    def ingest_file(self, file_path):\n",
        "        try:\n",
        "            self.data = read_file(file_path)\n",
        "            self.data_type = 'dataframe' if isinstance(self.data, pd.DataFrame) else 'text'\n",
        "            self.context_summary = optimize_context(self.data)\n",
        "            return f\"File ingested. Data type: {self.data_type}\"\n",
        "        except Exception as e:\n",
        "            return f\"Error processing file: {str(e)}\"\n",
        "    def ask_question(self, question):\n",
        "        if self.data is None:\n",
        "            return \"Please upload a file first\", None\n",
        "        try:\n",
        "            response = generate_response(question, self.context_summary)\n",
        "            img_b64 = None\n",
        "\n",
        "            # Check if visualization is requested\n",
        "            if \"plot\" in question.lower() or \"visualization\" in question.lower() or \"chart\" in question.lower():\n",
        "                code = extract_code(response)\n",
        "                if code:\n",
        "                    img_b64 = execute_plot_code(code, self.data)\n",
        "            return response, img_b64\n",
        "        except Exception as e:\n",
        "            return f\"Error: {str(e)}\", None"
      ],
      "metadata": {
        "id": "ro7WZFsmvsjS"
      },
      "execution_count": 7,
      "outputs": []
    },
    {
      "cell_type": "markdown",
      "source": [
        "cell 8"
      ],
      "metadata": {
        "id": "Aj2W_FKn0e7a"
      }
    },
    {
      "cell_type": "code",
      "source": [
        "from google.colab import files\n",
        "\n",
        "uploaded = files.upload()\n",
        "file_path = next(iter(uploaded))\n",
        "agent = DataAnalystAgent()\n",
        "print(agent.ingest_file(file_path))"
      ],
      "metadata": {
        "colab": {
          "base_uri": "https://localhost:8080/",
          "height": 90
        },
        "id": "KDN6PlxfvurK",
        "outputId": "f9b98026-927e-4633-d983-3b5dd9143e5a"
      },
      "execution_count": 14,
      "outputs": [
        {
          "output_type": "display_data",
          "data": {
            "text/plain": [
              "<IPython.core.display.HTML object>"
            ],
            "text/html": [
              "\n",
              "     <input type=\"file\" id=\"files-559b5e71-1f9a-4f4f-bf4b-603842e571fa\" name=\"files[]\" multiple disabled\n",
              "        style=\"border:none\" />\n",
              "     <output id=\"result-559b5e71-1f9a-4f4f-bf4b-603842e571fa\">\n",
              "      Upload widget is only available when the cell has been executed in the\n",
              "      current browser session. Please rerun this cell to enable.\n",
              "      </output>\n",
              "      <script>// Copyright 2017 Google LLC\n",
              "//\n",
              "// Licensed under the Apache License, Version 2.0 (the \"License\");\n",
              "// you may not use this file except in compliance with the License.\n",
              "// You may obtain a copy of the License at\n",
              "//\n",
              "//      http://www.apache.org/licenses/LICENSE-2.0\n",
              "//\n",
              "// Unless required by applicable law or agreed to in writing, software\n",
              "// distributed under the License is distributed on an \"AS IS\" BASIS,\n",
              "// WITHOUT WARRANTIES OR CONDITIONS OF ANY KIND, either express or implied.\n",
              "// See the License for the specific language governing permissions and\n",
              "// limitations under the License.\n",
              "\n",
              "/**\n",
              " * @fileoverview Helpers for google.colab Python module.\n",
              " */\n",
              "(function(scope) {\n",
              "function span(text, styleAttributes = {}) {\n",
              "  const element = document.createElement('span');\n",
              "  element.textContent = text;\n",
              "  for (const key of Object.keys(styleAttributes)) {\n",
              "    element.style[key] = styleAttributes[key];\n",
              "  }\n",
              "  return element;\n",
              "}\n",
              "\n",
              "// Max number of bytes which will be uploaded at a time.\n",
              "const MAX_PAYLOAD_SIZE = 100 * 1024;\n",
              "\n",
              "function _uploadFiles(inputId, outputId) {\n",
              "  const steps = uploadFilesStep(inputId, outputId);\n",
              "  const outputElement = document.getElementById(outputId);\n",
              "  // Cache steps on the outputElement to make it available for the next call\n",
              "  // to uploadFilesContinue from Python.\n",
              "  outputElement.steps = steps;\n",
              "\n",
              "  return _uploadFilesContinue(outputId);\n",
              "}\n",
              "\n",
              "// This is roughly an async generator (not supported in the browser yet),\n",
              "// where there are multiple asynchronous steps and the Python side is going\n",
              "// to poll for completion of each step.\n",
              "// This uses a Promise to block the python side on completion of each step,\n",
              "// then passes the result of the previous step as the input to the next step.\n",
              "function _uploadFilesContinue(outputId) {\n",
              "  const outputElement = document.getElementById(outputId);\n",
              "  const steps = outputElement.steps;\n",
              "\n",
              "  const next = steps.next(outputElement.lastPromiseValue);\n",
              "  return Promise.resolve(next.value.promise).then((value) => {\n",
              "    // Cache the last promise value to make it available to the next\n",
              "    // step of the generator.\n",
              "    outputElement.lastPromiseValue = value;\n",
              "    return next.value.response;\n",
              "  });\n",
              "}\n",
              "\n",
              "/**\n",
              " * Generator function which is called between each async step of the upload\n",
              " * process.\n",
              " * @param {string} inputId Element ID of the input file picker element.\n",
              " * @param {string} outputId Element ID of the output display.\n",
              " * @return {!Iterable<!Object>} Iterable of next steps.\n",
              " */\n",
              "function* uploadFilesStep(inputId, outputId) {\n",
              "  const inputElement = document.getElementById(inputId);\n",
              "  inputElement.disabled = false;\n",
              "\n",
              "  const outputElement = document.getElementById(outputId);\n",
              "  outputElement.innerHTML = '';\n",
              "\n",
              "  const pickedPromise = new Promise((resolve) => {\n",
              "    inputElement.addEventListener('change', (e) => {\n",
              "      resolve(e.target.files);\n",
              "    });\n",
              "  });\n",
              "\n",
              "  const cancel = document.createElement('button');\n",
              "  inputElement.parentElement.appendChild(cancel);\n",
              "  cancel.textContent = 'Cancel upload';\n",
              "  const cancelPromise = new Promise((resolve) => {\n",
              "    cancel.onclick = () => {\n",
              "      resolve(null);\n",
              "    };\n",
              "  });\n",
              "\n",
              "  // Wait for the user to pick the files.\n",
              "  const files = yield {\n",
              "    promise: Promise.race([pickedPromise, cancelPromise]),\n",
              "    response: {\n",
              "      action: 'starting',\n",
              "    }\n",
              "  };\n",
              "\n",
              "  cancel.remove();\n",
              "\n",
              "  // Disable the input element since further picks are not allowed.\n",
              "  inputElement.disabled = true;\n",
              "\n",
              "  if (!files) {\n",
              "    return {\n",
              "      response: {\n",
              "        action: 'complete',\n",
              "      }\n",
              "    };\n",
              "  }\n",
              "\n",
              "  for (const file of files) {\n",
              "    const li = document.createElement('li');\n",
              "    li.append(span(file.name, {fontWeight: 'bold'}));\n",
              "    li.append(span(\n",
              "        `(${file.type || 'n/a'}) - ${file.size} bytes, ` +\n",
              "        `last modified: ${\n",
              "            file.lastModifiedDate ? file.lastModifiedDate.toLocaleDateString() :\n",
              "                                    'n/a'} - `));\n",
              "    const percent = span('0% done');\n",
              "    li.appendChild(percent);\n",
              "\n",
              "    outputElement.appendChild(li);\n",
              "\n",
              "    const fileDataPromise = new Promise((resolve) => {\n",
              "      const reader = new FileReader();\n",
              "      reader.onload = (e) => {\n",
              "        resolve(e.target.result);\n",
              "      };\n",
              "      reader.readAsArrayBuffer(file);\n",
              "    });\n",
              "    // Wait for the data to be ready.\n",
              "    let fileData = yield {\n",
              "      promise: fileDataPromise,\n",
              "      response: {\n",
              "        action: 'continue',\n",
              "      }\n",
              "    };\n",
              "\n",
              "    // Use a chunked sending to avoid message size limits. See b/62115660.\n",
              "    let position = 0;\n",
              "    do {\n",
              "      const length = Math.min(fileData.byteLength - position, MAX_PAYLOAD_SIZE);\n",
              "      const chunk = new Uint8Array(fileData, position, length);\n",
              "      position += length;\n",
              "\n",
              "      const base64 = btoa(String.fromCharCode.apply(null, chunk));\n",
              "      yield {\n",
              "        response: {\n",
              "          action: 'append',\n",
              "          file: file.name,\n",
              "          data: base64,\n",
              "        },\n",
              "      };\n",
              "\n",
              "      let percentDone = fileData.byteLength === 0 ?\n",
              "          100 :\n",
              "          Math.round((position / fileData.byteLength) * 100);\n",
              "      percent.textContent = `${percentDone}% done`;\n",
              "\n",
              "    } while (position < fileData.byteLength);\n",
              "  }\n",
              "\n",
              "  // All done.\n",
              "  yield {\n",
              "    response: {\n",
              "      action: 'complete',\n",
              "    }\n",
              "  };\n",
              "}\n",
              "\n",
              "scope.google = scope.google || {};\n",
              "scope.google.colab = scope.google.colab || {};\n",
              "scope.google.colab._files = {\n",
              "  _uploadFiles,\n",
              "  _uploadFilesContinue,\n",
              "};\n",
              "})(self);\n",
              "</script> "
            ]
          },
          "metadata": {}
        },
        {
          "output_type": "stream",
          "name": "stdout",
          "text": [
            "Saving Screenshot 2025-06-09 180927.png to Screenshot 2025-06-09 180927.png\n",
            "File ingested. Data type: text\n"
          ]
        }
      ]
    },
    {
      "cell_type": "markdown",
      "source": [
        "cell 9"
      ],
      "metadata": {
        "id": "qXiijkSP0yYx"
      }
    },
    {
      "cell_type": "code",
      "source": [
        "if agent.data_type == 'dataframe':\n",
        "    display(agent.data.head())\n",
        "else:\n",
        "    print(agent.context_summary[:500])"
      ],
      "metadata": {
        "colab": {
          "base_uri": "https://localhost:8080/"
        },
        "id": "tfqD-tWjvw9i",
        "outputId": "41d4d1ff-37bc-4129-dfdd-e8aee414029c"
      },
      "execution_count": 15,
      "outputs": [
        {
          "output_type": "stream",
          "name": "stdout",
          "text": [
            "+ LLM-Based Auto Slide Deck Creator with Web Data Integration\n",
            "Built a Python tool to auto-generate PowerPoint decks using LLMs and real-time web search.\n",
            "\n",
            "— Tools & technologies used: VS Code, Python, OpenRouter API (LLM) SerpAPI (Google Search), python-pptx,\n",
            "REST APIs, dotenv, requests\n",
            "\n",
            "— Developed a Python-based tool that auto-generates structured PowerPoint presentations on any topic by integrat-\n",
            "ing LLMs (via OpenRouter) and real-time data from Google Search (via SerpAPI). Utilized REST APIs \n"
          ]
        }
      ]
    },
    {
      "cell_type": "markdown",
      "source": [
        "cell 10"
      ],
      "metadata": {
        "id": "wktxs7yJ1GfS"
      }
    },
    {
      "cell_type": "code",
      "source": [
        "question = input(\"Ask your question about the data: \")\n",
        "\n",
        "try:\n",
        "    response, img_b64 = agent.ask_question(question)\n",
        "    print(\"\\nRESPONSE:\\n\", response)\n",
        "\n",
        "    if img_b64 and not img_b64.startswith(\"Error\"):\n",
        "        display(Image(base64.b64decode(img_b64)))\n",
        "    elif img_b64:\n",
        "        print(img_b64)\n",
        "except Exception as e:\n",
        "    print(\"Error:\", e)"
      ],
      "metadata": {
        "colab": {
          "base_uri": "https://localhost:8080/"
        },
        "id": "NcLxUv-pv1NG",
        "outputId": "38c75a2b-41e8-41ca-daa8-83fc9600bc62"
      },
      "execution_count": 16,
      "outputs": [
        {
          "name": "stdout",
          "output_type": "stream",
          "text": [
            "Ask your question about the data: summarise me what this is\n"
          ]
        },
        {
          "output_type": "stream",
          "name": "stderr",
          "text": [
            "<ipython-input-6-662108674>:13: DeprecationWarning: Call to deprecated function create.\n",
            "  response = together.Complete.create(\n",
            "/usr/local/lib/python3.11/dist-packages/together/legacy/complete.py:23: UserWarning: The use of together.api_key is deprecated and will be removed in the next major release. Please set the TOGETHER_API_KEY environment variable instead.\n",
            "  warnings.warn(API_KEY_WARNING)\n"
          ]
        },
        {
          "output_type": "stream",
          "name": "stdout",
          "text": [
            "\n",
            "RESPONSE:\n",
            " This appears to be a summary of a person's technical skills, experience, and interests, likely from a resume or a personal profile. It highlights their:\n",
            "\n",
            "1. Projects: \n",
            "   - Auto Slide Deck Creator using LLMs and web data integration\n",
            "   - Autism Prediction using Machine Learning\n",
            "\n",
            "2. Technical Skills: \n",
            "   - Programming languages (C, C++, Python, HTML, CSS)\n",
            "   - Developer tools (Jupyter Notebook, Google Colab, Git/GitHub, etc.)\n",
            "   - Frameworks (NumPy, Pandas, Matplotlib, Scikit-learn, etc.)\n",
            "\n",
            "3. Soft Skills: \n",
            "   - Problem-solving, Critical Thinking, Team Collaboration, Adaptive Thinking\n",
            "\n",
            "4. Coursework and Areas of Interest: \n",
            "   - Relevant coursework (Data Structures and Algorithms, Linear Algebra, etc.)\n",
            "   - Interests in AI, ML, Computer Vision, Data Science, Physics, and more\n",
            "\n",
            "5. Positions of Responsibility: \n",
            "   - Roles held in various clubs and cells, such as Innovation Cell and MotoSports Club at NIT.\n"
          ]
        }
      ]
    },
    {
      "cell_type": "code",
      "source": [],
      "metadata": {
        "id": "nKFoXPpCv9nf"
      },
      "execution_count": null,
      "outputs": []
    }
  ]
}